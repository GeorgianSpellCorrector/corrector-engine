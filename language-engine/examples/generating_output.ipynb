{
 "cells": [
  {
   "cell_type": "code",
   "execution_count": null,
   "metadata": {},
   "outputs": [],
   "source": [
    "from transformers import pipeline"
   ]
  },
  {
   "cell_type": "code",
   "execution_count": null,
   "metadata": {},
   "outputs": [],
   "source": [
    "fix_spelling = pipeline(\"text2text-generation\",model=\"ZurabDz/geo-spell-check\", device=\"cuda:0\")\n",
    "print(fix_spelling(\"გუშინისეთი ცუდი ამინდი იყო დედა შვილ არ აიყვანდა ხელში\",max_length=64))"
   ]
  },
  {
   "cell_type": "code",
   "execution_count": null,
   "metadata": {},
   "outputs": [],
   "source": [
    "import transformers\n",
    "\n",
    "# Load the BART model\n",
    "model = transformers.BartForConditionalGeneration.from_pretrained('ZurabDz/geo-spell-check').to('cuda').half()\n"
   ]
  },
  {
   "cell_type": "code",
   "execution_count": null,
   "metadata": {},
   "outputs": [],
   "source": [
    "# Set the prompt\n",
    "prompt = \"გამარჯობა როგორ ხარ?\"\n",
    "prompt = tok.encode(prompt, return_tensors='pt').to('cuda')"
   ]
  },
  {
   "cell_type": "code",
   "execution_count": null,
   "metadata": {},
   "outputs": [],
   "source": [
    "# Generate text\n",
    "output_ids = model.generate(\n",
    "        prompt,\n",
    "        do_sample=True,\n",
    "        max_length=64,\n",
    "        top_p=0.85,\n",
    "        top_k=100,\n",
    "        num_return_sequences=1\n",
    "    )\n"
   ]
  },
  {
   "cell_type": "code",
   "execution_count": null,
   "metadata": {},
   "outputs": [],
   "source": [
    "output_text = tok.decode(output_ids.squeeze(), skip_special_tokens=True)"
   ]
  },
  {
   "cell_type": "code",
   "execution_count": null,
   "metadata": {},
   "outputs": [],
   "source": []
  }
 ],
 "metadata": {
  "kernelspec": {
   "display_name": "research",
   "language": "python",
   "name": "python3"
  },
  "language_info": {
   "codemirror_mode": {
    "name": "ipython",
    "version": 3
   },
   "file_extension": ".py",
   "mimetype": "text/x-python",
   "name": "python",
   "nbconvert_exporter": "python",
   "pygments_lexer": "ipython3",
   "version": "3.8.15"
  },
  "orig_nbformat": 4
 },
 "nbformat": 4,
 "nbformat_minor": 2
}
